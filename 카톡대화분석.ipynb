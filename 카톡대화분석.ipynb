{
 "cells": [
  {
   "cell_type": "code",
   "execution_count": 1,
   "metadata": {},
   "outputs": [],
   "source": [
    "import os\n",
    "import pandas as pd\n",
    "import numpy as np"
   ]
  },
  {
   "cell_type": "code",
   "execution_count": 3,
   "metadata": {},
   "outputs": [
    {
     "data": {
      "text/plain": [
       "['Talk_2020.4.13 18_43-1.txt', 'Talk_2020.4.13 18_43-2.txt']"
      ]
     },
     "execution_count": 3,
     "metadata": {},
     "output_type": "execute_result"
    }
   ],
   "source": [
    "os.listdir('data')"
   ]
  },
  {
   "cell_type": "code",
   "execution_count": 236,
   "metadata": {},
   "outputs": [],
   "source": [
    "df = pd.DataFrame(columns = ['date','comments'])\n",
    "f = open('./data/Talk_2020.4.13 18_43-1.txt', 'r', encoding='utf-8')\n",
    "lines = f.readlines()\n",
    "for line in lines:\n",
    "    try:\n",
    "        if line.startswith('2019.') or line.startswith('2020.'):\n",
    "            tmp = pd.DataFrame(data=[line.split(',',1)],columns = ['date','comments'])\n",
    "            df = pd.concat([df,tmp],axis=0)\n",
    "    except:\n",
    "        continue\n",
    "df = df.reset_index(drop=True)\n",
    "\n"
   ]
  },
  {
   "cell_type": "code",
   "execution_count": 237,
   "metadata": {},
   "outputs": [],
   "source": [
    "df = df.reset_index(drop=True)"
   ]
  },
  {
   "cell_type": "code",
   "execution_count": 239,
   "metadata": {},
   "outputs": [],
   "source": [
    "# 이상한 행 하나 찾아서 제거\n",
    "df.drop(index=[4451],inplace=True)"
   ]
  },
  {
   "cell_type": "code",
   "execution_count": 240,
   "metadata": {},
   "outputs": [],
   "source": [
    "# index를 초기화 index가 순서대로 되어있지 않으면 dataframe은 자꾸 이상하게 한다.\n",
    "df.reset_index(drop=True, inplace=True)"
   ]
  },
  {
   "cell_type": "code",
   "execution_count": 241,
   "metadata": {},
   "outputs": [],
   "source": [
    "df['name'] = 'a'\n",
    "df['text'] = 'b'\n",
    "for i,j in enumerate(df['comments']):\n",
    "    a = j.split(' : ',1)\n",
    "    df['name'][i] = a[0]\n",
    "    df['text'][i] = a[1]"
   ]
  },
  {
   "cell_type": "code",
   "execution_count": 242,
   "metadata": {},
   "outputs": [],
   "source": [
    "df.drop(['comments'],axis=1,inplace=True)"
   ]
  },
  {
   "cell_type": "code",
   "execution_count": 243,
   "metadata": {},
   "outputs": [],
   "source": [
    "df['text']=df['text'].apply(lambda x : x[:-1])"
   ]
  },
  {
   "cell_type": "code",
   "execution_count": 259,
   "metadata": {},
   "outputs": [],
   "source": [
    "df['name']=df['name'].apply(lambda x: x.strip())"
   ]
  },
  {
   "cell_type": "code",
   "execution_count": 262,
   "metadata": {},
   "outputs": [],
   "source": [
    "df2 = pd.DataFrame(columns = ['date','comments'])\n",
    "f = open('./data/Talk_2020.4.13 18_43-2.txt', 'r', encoding='utf-8')\n",
    "lines = f.readlines()\n",
    "for line in lines:\n",
    "    try:\n",
    "        if line.startswith('2019.') or line.startswith('2020.'):\n",
    "            tmp = pd.DataFrame(data=[line.split(',',1)],columns = ['date','comments'])\n",
    "            df2 = pd.concat([df2,tmp],axis=0)\n",
    "    except:\n",
    "        continue"
   ]
  },
  {
   "cell_type": "code",
   "execution_count": 264,
   "metadata": {},
   "outputs": [],
   "source": [
    "df2 = df2.reset_index(drop=True)"
   ]
  },
  {
   "cell_type": "code",
   "execution_count": 265,
   "metadata": {},
   "outputs": [],
   "source": [
    "df2['name'] = 'a'\n",
    "df2['text'] = 'b'\n",
    "for i,j in enumerate(df2['comments']):\n",
    "    b = j.split(' : ',1)\n",
    "    df2['name'][i] = b[0]\n",
    "    df2['text'][i] = b[1]"
   ]
  },
  {
   "cell_type": "code",
   "execution_count": 267,
   "metadata": {},
   "outputs": [],
   "source": [
    "df2.drop(['comments'],axis=1,inplace=True)\n",
    "df2['text']=df2['text'].apply(lambda x : x[:-1])"
   ]
  },
  {
   "cell_type": "code",
   "execution_count": 275,
   "metadata": {},
   "outputs": [],
   "source": [
    "df2['name']=df2['name'].apply(lambda x: x.strip())"
   ]
  },
  {
   "cell_type": "code",
   "execution_count": 276,
   "metadata": {},
   "outputs": [],
   "source": [
    "final = pd.concat([df,df2],axis=0)"
   ]
  },
  {
   "cell_type": "code",
   "execution_count": 277,
   "metadata": {},
   "outputs": [],
   "source": [
    "final = final.reset_index(drop=True)"
   ]
  },
  {
   "cell_type": "code",
   "execution_count": 279,
   "metadata": {},
   "outputs": [
    {
     "data": {
      "text/html": [
       "<div>\n",
       "<style scoped>\n",
       "    .dataframe tbody tr th:only-of-type {\n",
       "        vertical-align: middle;\n",
       "    }\n",
       "\n",
       "    .dataframe tbody tr th {\n",
       "        vertical-align: top;\n",
       "    }\n",
       "\n",
       "    .dataframe thead th {\n",
       "        text-align: right;\n",
       "    }\n",
       "</style>\n",
       "<table border=\"1\" class=\"dataframe\">\n",
       "  <thead>\n",
       "    <tr style=\"text-align: right;\">\n",
       "      <th></th>\n",
       "      <th>date</th>\n",
       "      <th>name</th>\n",
       "      <th>text</th>\n",
       "    </tr>\n",
       "  </thead>\n",
       "  <tbody>\n",
       "    <tr>\n",
       "      <th>0</th>\n",
       "      <td>2019. 11. 30. 오후 3:01</td>\n",
       "      <td>philosk</td>\n",
       "      <td>VScode에서 run 단축키가 무엇인가요?</td>\n",
       "    </tr>\n",
       "    <tr>\n",
       "      <th>1</th>\n",
       "      <td>2019. 11. 30. 오후 5:16</td>\n",
       "      <td>a</td>\n",
       "      <td>안녕하십니까</td>\n",
       "    </tr>\n",
       "    <tr>\n",
       "      <th>2</th>\n",
       "      <td>2019. 11. 30. 오후 5:16</td>\n",
       "      <td>a</td>\n",
       "      <td>혹시 NLP관련해서 읽어보기 좋은 논문이나 글같은거 링크 공유해주시면 감사하겠습니다!!</td>\n",
       "    </tr>\n",
       "    <tr>\n",
       "      <th>3</th>\n",
       "      <td>2019. 11. 30. 오후 5:27</td>\n",
       "      <td>재택연구 중 초보의 미학쿤</td>\n",
       "      <td>http://web.stanford.edu/class/cs224n/</td>\n",
       "    </tr>\n",
       "    <tr>\n",
       "      <th>4</th>\n",
       "      <td>2019. 11. 30. 오후 5:28</td>\n",
       "      <td>재택연구 중 초보의 미학쿤</td>\n",
       "      <td>Nlp도 업으로 하는거랑 응용하는거랑은 좀 거리가 있다고 봐서 전 응용위주라</td>\n",
       "    </tr>\n",
       "    <tr>\n",
       "      <th>...</th>\n",
       "      <td>...</td>\n",
       "      <td>...</td>\n",
       "      <td>...</td>\n",
       "    </tr>\n",
       "    <tr>\n",
       "      <th>9710</th>\n",
       "      <td>2020. 4. 13. 오후 6:40</td>\n",
       "      <td>pythonista</td>\n",
       "      <td>요거는 확인 했나요</td>\n",
       "    </tr>\n",
       "    <tr>\n",
       "      <th>9711</th>\n",
       "      <td>2020. 4. 13. 오후 6:40</td>\n",
       "      <td>pythonista</td>\n",
       "      <td>그냥 list 라고 했을 때 변수가 나왓나요</td>\n",
       "    </tr>\n",
       "    <tr>\n",
       "      <th>9712</th>\n",
       "      <td>2020. 4. 13. 오후 6:43</td>\n",
       "      <td>ARIMA</td>\n",
       "      <td>아....저~위에....뱐수 선언을..해줬었네요..</td>\n",
       "    </tr>\n",
       "    <tr>\n",
       "      <th>9713</th>\n",
       "      <td>2020. 4. 13. 오후 6:43</td>\n",
       "      <td>ARIMA</td>\n",
       "      <td>죄송함니다...(머쓱...)</td>\n",
       "    </tr>\n",
       "    <tr>\n",
       "      <th>9714</th>\n",
       "      <td>2020. 4. 13. 오후 6:43</td>\n",
       "      <td>ARIMA</td>\n",
       "      <td>이모티콘</td>\n",
       "    </tr>\n",
       "  </tbody>\n",
       "</table>\n",
       "<p>9715 rows × 3 columns</p>\n",
       "</div>"
      ],
      "text/plain": [
       "                       date            name  \\\n",
       "0     2019. 11. 30. 오후 3:01         philosk   \n",
       "1     2019. 11. 30. 오후 5:16               a   \n",
       "2     2019. 11. 30. 오후 5:16               a   \n",
       "3     2019. 11. 30. 오후 5:27  재택연구 중 초보의 미학쿤   \n",
       "4     2019. 11. 30. 오후 5:28  재택연구 중 초보의 미학쿤   \n",
       "...                     ...             ...   \n",
       "9710   2020. 4. 13. 오후 6:40      pythonista   \n",
       "9711   2020. 4. 13. 오후 6:40      pythonista   \n",
       "9712   2020. 4. 13. 오후 6:43           ARIMA   \n",
       "9713   2020. 4. 13. 오후 6:43           ARIMA   \n",
       "9714   2020. 4. 13. 오후 6:43           ARIMA   \n",
       "\n",
       "                                                  text  \n",
       "0                             VScode에서 run 단축키가 무엇인가요?  \n",
       "1                                               안녕하십니까  \n",
       "2     혹시 NLP관련해서 읽어보기 좋은 논문이나 글같은거 링크 공유해주시면 감사하겠습니다!!  \n",
       "3                http://web.stanford.edu/class/cs224n/  \n",
       "4           Nlp도 업으로 하는거랑 응용하는거랑은 좀 거리가 있다고 봐서 전 응용위주라  \n",
       "...                                                ...  \n",
       "9710                                        요거는 확인 했나요  \n",
       "9711                          그냥 list 라고 했을 때 변수가 나왓나요  \n",
       "9712                      아....저~위에....뱐수 선언을..해줬었네요..  \n",
       "9713                                   죄송함니다...(머쓱...)  \n",
       "9714                                              이모티콘  \n",
       "\n",
       "[9715 rows x 3 columns]"
      ]
     },
     "execution_count": 279,
     "metadata": {},
     "output_type": "execute_result"
    }
   ],
   "source": [
    "final"
   ]
  },
  {
   "cell_type": "code",
   "execution_count": 280,
   "metadata": {},
   "outputs": [
    {
     "data": {
      "text/plain": [
       "재택연구 중 초보의 미학쿤    3788\n",
       "귀요미                408\n",
       "헤헿                 365\n",
       "분석가                240\n",
       "분석scv              228\n",
       "                  ... \n",
       "Data로가자              1\n",
       "Kirinny              1\n",
       "강동협[Tike]            1\n",
       "Fighting             1\n",
       "janice               1\n",
       "Name: name, Length: 206, dtype: int64"
      ]
     },
     "execution_count": 280,
     "metadata": {},
     "output_type": "execute_result"
    }
   ],
   "source": [
    "final.name.value_counts()"
   ]
  },
  {
   "cell_type": "code",
   "execution_count": 283,
   "metadata": {},
   "outputs": [],
   "source": [
    "final.to_csv('./data/katalkfinal.csv',index=False)"
   ]
  },
  {
   "cell_type": "code",
   "execution_count": null,
   "metadata": {},
   "outputs": [],
   "source": []
  }
 ],
 "metadata": {
  "kernelspec": {
   "display_name": "Python 3",
   "language": "python",
   "name": "python3"
  },
  "language_info": {
   "codemirror_mode": {
    "name": "ipython",
    "version": 3
   },
   "file_extension": ".py",
   "mimetype": "text/x-python",
   "name": "python",
   "nbconvert_exporter": "python",
   "pygments_lexer": "ipython3",
   "version": "3.7.4"
  }
 },
 "nbformat": 4,
 "nbformat_minor": 2
}
